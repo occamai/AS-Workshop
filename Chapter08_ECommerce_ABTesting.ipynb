{
 "cells": [
  {
   "cell_type": "code",
   "execution_count": null,
   "metadata": {},
   "outputs": [],
   "source": [
    "#111111111222222222233333333334444444444555555555566666666667777777777888888888899999999990000000000"
   ]
  },
  {
   "cell_type": "code",
   "execution_count": 1,
   "metadata": {},
   "outputs": [],
   "source": [
    "# create a spark session\n",
    "import pyspark\n",
    "spark_context = pyspark.SparkContext()\n",
    "spark_session = pyspark.sql.SparkSession(spark_context)"
   ]
  },
  {
   "cell_type": "code",
   "execution_count": 2,
   "metadata": {},
   "outputs": [
    {
     "name": "stdout",
     "output_type": "stream",
     "text": [
      "+-------+--------------------+---------+------------+---------+\n",
      "|user_id|           timestamp|    group|landing_page|converted|\n",
      "+-------+--------------------+---------+------------+---------+\n",
      "| 851104|2017-01-21 22:11:...|  control|    old_page|        0|\n",
      "| 804228|2017-01-12 08:01:...|  control|    old_page|        0|\n",
      "| 661590|2017-01-11 16:55:...|treatment|    new_page|        0|\n",
      "| 853541|2017-01-08 18:28:...|treatment|    new_page|        0|\n",
      "| 864975|2017-01-21 01:52:...|  control|    old_page|        1|\n",
      "| 936923|2017-01-10 15:20:...|  control|    old_page|        0|\n",
      "| 679687|2017-01-19 03:26:...|treatment|    new_page|        1|\n",
      "| 719014|2017-01-17 01:48:...|  control|    old_page|        0|\n",
      "| 817355|2017-01-04 17:58:...|treatment|    new_page|        1|\n",
      "| 839785|2017-01-15 18:11:...|treatment|    new_page|        1|\n",
      "| 929503|2017-01-18 05:37:...|treatment|    new_page|        0|\n",
      "| 834487|2017-01-21 22:37:...|treatment|    new_page|        0|\n",
      "| 803683|2017-01-09 06:05:...|treatment|    new_page|        0|\n",
      "| 944475|2017-01-22 01:31:...|treatment|    new_page|        0|\n",
      "| 718956|2017-01-22 11:45:...|treatment|    new_page|        0|\n",
      "| 644214|2017-01-22 02:05:...|  control|    old_page|        1|\n",
      "| 847721|2017-01-17 14:01:...|  control|    old_page|        0|\n",
      "| 888545|2017-01-08 06:37:...|treatment|    new_page|        1|\n",
      "| 650559|2017-01-24 11:55:...|  control|    old_page|        0|\n",
      "| 935734|2017-01-17 20:33:...|  control|    old_page|        0|\n",
      "+-------+--------------------+---------+------------+---------+\n",
      "only showing top 20 rows\n",
      "\n"
     ]
    }
   ],
   "source": [
    "# load csv file into dataframe\n",
    "df = spark_session.read.csv(\"ab_data.csv\", header=True, sep=\",\")\n",
    "df.show()"
   ]
  },
  {
   "cell_type": "code",
   "execution_count": 3,
   "metadata": {},
   "outputs": [
    {
     "name": "stdout",
     "output_type": "stream",
     "text": [
      "control group conversion rate =  0.12039917935897611\n"
     ]
    }
   ],
   "source": [
    "# calculate the conversion rate for the control group\n",
    "num_control_users = df.filter( df.group == \"control\").count()\n",
    "num_control_converted = \\\n",
    "    df.filter( ( df.group == \"control\") & ( df.converted == 1) ).count()\n",
    "print(\"control group conversion rate = \", \\\n",
    "    num_control_converted / num_control_users )"
   ]
  },
  {
   "cell_type": "code",
   "execution_count": 4,
   "metadata": {},
   "outputs": [
    {
     "name": "stdout",
     "output_type": "stream",
     "text": [
      "treatment group conversion rate =  0.11891957956489856\n"
     ]
    }
   ],
   "source": [
    "# calculate the conversion rate for the treatment group\n",
    "num_treatment_users = df.filter( df.group == \"treatment\").count()\n",
    "num_treatment_converted = \\\n",
    "    df.filter( ( df.group == \"treatment\") & ( df.converted == 1) ).count()\n",
    "print(\"treatment group conversion rate = \", \\\n",
    "    num_treatment_converted / num_treatment_users )"
   ]
  },
  {
   "cell_type": "code",
   "execution_count": 5,
   "metadata": {},
   "outputs": [
    {
     "name": "stdout",
     "output_type": "stream",
     "text": [
      "A/B test p-value = 0.8919419336512124\n"
     ]
    }
   ],
   "source": [
    "# calculate the p-value\n",
    "import statsmodels.api as sm\n",
    "_, p_value = sm.stats.proportions_ztest( \\\n",
    "    [num_control_converted, num_treatment_converted], \\\n",
    "    [num_control_users, num_treatment_users], \\\n",
    "    alternative='smaller')\n",
    "print(\"A/B test p-value =\", p_value)     "
   ]
  },
  {
   "cell_type": "code",
   "execution_count": 6,
   "metadata": {},
   "outputs": [
    {
     "name": "stdout",
     "output_type": "stream",
     "text": [
      "Number of rows with null values =  0\n"
     ]
    }
   ],
   "source": [
    "# detect any null values\n",
    "num_rows_with_null_vals = df.filter( df.user_id.isNull() | \\\n",
    "                                     df.timestamp.isNull() | \\\n",
    "                                     df.group.isNull() | \\\n",
    "                                     df.landing_page.isNull() | \\\n",
    "                                     df.converted.isNull() ).count()\n",
    "print(\"Number of rows with null values = \", num_rows_with_null_vals)"
   ]
  },
  {
   "cell_type": "code",
   "execution_count": 7,
   "metadata": {},
   "outputs": [
    {
     "name": "stdout",
     "output_type": "stream",
     "text": [
      "total rows = 294478  unique users = 290584\n",
      "total rows = 290584\n"
     ]
    }
   ],
   "source": [
    "#detect non-unique users\n",
    "total_rows = df.count()\n",
    "unique_users = df.select(\"user_id\").distinct().count()\n",
    "print(\"total rows =\", total_rows,\" unique users =\", unique_users)\n",
    "\n",
    "#drop duplicates\n",
    "ndf = df.dropDuplicates([\"user_id\"])\n",
    "print(\"total rows =\", ndf.count())"
   ]
  },
  {
   "cell_type": "code",
   "execution_count": 8,
   "metadata": {},
   "outputs": [
    {
     "name": "stdout",
     "output_type": "stream",
     "text": [
      "new dataframe size = 290585\n"
     ]
    }
   ],
   "source": [
    "# detect any group/landing_page mismatch\n",
    "df = df.filter( ( ( df.group == \"control\") &\n",
    "                  ( df.landing_page == \"old_page\") ) |\n",
    "                ( ( df.group == \"treatment\") &\n",
    "                  ( df.landing_page == \"new_page\") ) )\n",
    "print(\"new dataframe size =\", df.count())"
   ]
  },
  {
   "cell_type": "code",
   "execution_count": 9,
   "metadata": {},
   "outputs": [
    {
     "name": "stdout",
     "output_type": "stream",
     "text": [
      "control group conversion rate =  0.1203863045004612\n"
     ]
    }
   ],
   "source": [
    "# recalculate the conversion rate for the control group\n",
    "num_control_users = df.filter( df.group == \"control\").count()\n",
    "num_control_converted = \\\n",
    "    df.filter( ( df.group == \"control\") & ( df.converted == 1) ).count()\n",
    "print(\"control group conversion rate = \", \\\n",
    "    num_control_converted / num_control_users )"
   ]
  },
  {
   "cell_type": "code",
   "execution_count": 10,
   "metadata": {},
   "outputs": [
    {
     "name": "stdout",
     "output_type": "stream",
     "text": [
      "treatment group conversion rate =  0.11880724790277405\n"
     ]
    }
   ],
   "source": [
    "# recalculate the conversion rate for the treatment group\n",
    "num_treatment_users = df.filter( df.group == \"treatment\").count()\n",
    "num_treatment_converted = \\\n",
    "    df.filter( ( df.group == \"treatment\") & ( df.converted == 1) ).count()\n",
    "print(\"treatment group conversion rate = \", \\\n",
    "    num_treatment_converted / num_treatment_users )"
   ]
  },
  {
   "cell_type": "code",
   "execution_count": 11,
   "metadata": {},
   "outputs": [
    {
     "name": "stdout",
     "output_type": "stream",
     "text": [
      "A/B test p-value = 0.905173705140591\n"
     ]
    }
   ],
   "source": [
    "# recalculate the p-value\n",
    "import statsmodels.api as sm\n",
    "_, p_value = sm.stats.proportions_ztest( \\\n",
    "    [num_control_converted, num_treatment_converted], \\\n",
    "    [num_control_users, num_treatment_users], \\\n",
    "    alternative='smaller')\n",
    "print(\"A/B test p-value =\", p_value)  "
   ]
  },
  {
   "cell_type": "code",
   "execution_count": 12,
   "metadata": {},
   "outputs": [
    {
     "name": "stdout",
     "output_type": "stream",
     "text": [
      "+-------+--------------------+---------+------------+---------+\n",
      "|user_id|           timestamp|    group|landing_page|converted|\n",
      "+-------+--------------------+---------+------------+---------+\n",
      "| 851104|2017-01-21 22:11:...|  control|    old_page|        0|\n",
      "| 804228|2017-01-12 08:01:...|  control|    old_page|        0|\n",
      "| 661590|2017-01-11 16:55:...|treatment|    new_page|        1|\n",
      "| 853541|2017-01-08 18:28:...|treatment|    new_page|        1|\n",
      "| 864975|2017-01-21 01:52:...|  control|    old_page|        1|\n",
      "| 936923|2017-01-10 15:20:...|  control|    old_page|        0|\n",
      "| 679687|2017-01-19 03:26:...|treatment|    new_page|        1|\n",
      "| 719014|2017-01-17 01:48:...|  control|    old_page|        0|\n",
      "| 817355|2017-01-04 17:58:...|treatment|    new_page|        1|\n",
      "| 839785|2017-01-15 18:11:...|treatment|    new_page|        1|\n",
      "| 929503|2017-01-18 05:37:...|treatment|    new_page|        1|\n",
      "| 834487|2017-01-21 22:37:...|treatment|    new_page|        1|\n",
      "| 803683|2017-01-09 06:05:...|treatment|    new_page|        1|\n",
      "| 944475|2017-01-22 01:31:...|treatment|    new_page|        1|\n",
      "| 718956|2017-01-22 11:45:...|treatment|    new_page|        1|\n",
      "| 644214|2017-01-22 02:05:...|  control|    old_page|        1|\n",
      "| 847721|2017-01-17 14:01:...|  control|    old_page|        0|\n",
      "| 888545|2017-01-08 06:37:...|treatment|    new_page|        1|\n",
      "| 650559|2017-01-24 11:55:...|  control|    old_page|        0|\n",
      "| 935734|2017-01-17 20:33:...|  control|    old_page|        0|\n",
      "+-------+--------------------+---------+------------+---------+\n",
      "only showing top 20 rows\n",
      "\n"
     ]
    }
   ],
   "source": [
    "# lets now pretend all those in the treatment group converted...\n",
    "from pyspark.sql.functions import *\n",
    "df = df \\\n",
    "    .withColumn('converted_new',\\\n",
    "    when(df.group == \"control\", df.converted).otherwise(1)) \\\n",
    "    .drop(df.converted) \\\n",
    "    .select(col('user_id'), \\\n",
    "            col('timestamp'), \\\n",
    "            col('group'), \\\n",
    "            col('landing_page'), \\\n",
    "            col('converted_new').alias('converted'))\n",
    "df.show()"
   ]
  },
  {
   "cell_type": "code",
   "execution_count": 13,
   "metadata": {},
   "outputs": [
    {
     "name": "stdout",
     "output_type": "stream",
     "text": [
      "treatment group conversion rate =  1.0\n"
     ]
    }
   ],
   "source": [
    "# recalculate the conversion rate for the treatment group\n",
    "num_treatment_users = df.filter( df.group == \"treatment\").count()\n",
    "num_treatment_converted = \\\n",
    "    df.filter( ( df.group == \"treatment\") & ( df.converted == 1) ).count()\n",
    "print(\"treatment group conversion rate = \", \\\n",
    "    num_treatment_converted / num_treatment_users )"
   ]
  },
  {
   "cell_type": "code",
   "execution_count": 14,
   "metadata": {},
   "outputs": [
    {
     "name": "stdout",
     "output_type": "stream",
     "text": [
      "A/B test p-value = 0.0\n"
     ]
    }
   ],
   "source": [
    "# recalculate the p-value\n",
    "import statsmodels.api as sm\n",
    "_, p_value = sm.stats.proportions_ztest( \\\n",
    "    [num_control_converted, num_treatment_converted], \\\n",
    "    [num_control_users, num_treatment_users], \\\n",
    "    alternative='smaller')\n",
    "print(\"A/B test p-value =\", p_value)  "
   ]
  }
 ],
 "metadata": {
  "kernelspec": {
   "display_name": "Python 3",
   "language": "python",
   "name": "python3"
  },
  "language_info": {
   "codemirror_mode": {
    "name": "ipython",
    "version": 3
   },
   "file_extension": ".py",
   "mimetype": "text/x-python",
   "name": "python",
   "nbconvert_exporter": "python",
   "pygments_lexer": "ipython3",
   "version": "3.7.4"
  }
 },
 "nbformat": 4,
 "nbformat_minor": 4
}
